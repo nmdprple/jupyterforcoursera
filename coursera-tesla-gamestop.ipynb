{
 "cells": [
  {
   "cell_type": "code",
   "execution_count": null,
   "id": "f0c33eb0-c5ec-4bac-814f-dd05128b2c8e",
   "metadata": {
    "tags": []
   },
   "outputs": [],
   "source": [
    "#TESLA HISTORY\n",
    "import yfinance as yf\n",
    "import pandas as pa\n",
    "\n",
    "tesla = yf.Ticker('TSLA')\n",
    "\n",
    "tesla_stock = tesla.history(period=\"max\")\n",
    "\n",
    "tesla_stock.reset_index(inplace=True)\n",
    "print(tesla_stock.head())\n"
   ]
  },
  {
   "cell_type": "code",
   "execution_count": null,
   "id": "214f5878-2a89-4fea-9208-bcb866d09989",
   "metadata": {},
   "outputs": [],
   "source": [
    "#TESLA REVENUES\n",
    "import requests\n",
    "from bs4 import BeautifulSoup\n",
    "import pandas\n",
    "from prettytable import PrettyTable\n",
    "\n",
    "url = \"https://companiesmarketcap.com/tesla/revenue/\"\n",
    "tesla = requests.get(url).text\n",
    "#parsing the site data;\n",
    "tesla_html = BeautifulSoup(tesla,'html.parser')\n",
    "\n",
    "#this code will find headers of the  site table\n",
    "table_head = tesla_html.find(\"thead\")\n",
    "headers = [header.text.strip() for header in table_head.find_all(\"th\")]\n",
    "\n",
    "#this code will find rows and creates new list for merging the headers and data\n",
    "table_body = tesla_html.find(\"tbody\")\n",
    "data_rows = table_body.find_all(\"tr\")\n",
    "tesla_rev = []\n",
    "\n",
    "#Adding rows to list\n",
    "for row in data_rows:\n",
    "    row_data = [cell.text.strip() for cell in row.find_all(\"td\")]\n",
    "    tesla_rev.append(row_data)\n",
    "#creating new frame for scraped datas;\n",
    "rev_tab = pandas.DataFrame(tesla_rev, columns=headers)\n",
    "\n",
    "\n",
    "print(tesla_rev)\n"
   ]
  },
  {
   "cell_type": "code",
   "execution_count": null,
   "id": "7cc98406",
   "metadata": {},
   "outputs": [],
   "source": [
    "#GAMESTOP HISTORY\n",
    "game = yf.Ticker('GME')\n",
    "game_stock = game.history(period=\"max\")\n",
    "game_stock.reset_index(inplace=True)\n",
    "print(game_stock.head()) \n",
    "\n"
   ]
  },
  {
   "cell_type": "code",
   "execution_count": null,
   "id": "8a31d422",
   "metadata": {},
   "outputs": [],
   "source": [
    "#GAMESTOP REVENUES\n",
    "import requests\n",
    "from bs4 import BeautifulSoup\n",
    "import pandas\n",
    "from prettytable import PrettyTable\n",
    "\n",
    "url = \"https://companiesmarketcap.com/gamestop/revenue/\"\n",
    "game = requests.get(url).text\n",
    "#parsing the site data;\n",
    "game_html = BeautifulSoup(game,'html.parser')\n",
    "\n",
    "#this code will find headers of the  site table\n",
    "table_head = game_html.find(\"thead\")\n",
    "headers = [header.text.strip() for header in table_head.find_all(\"th\")]\n",
    "\n",
    "#this code will find rows and creates new list for merging the headers and data\n",
    "table_body = game_html.find(\"tbody\")\n",
    "data_rows = table_body.find_all(\"tr\")\n",
    "game_rev = []\n",
    "\n",
    "#Adding rows to list\n",
    "for row in data_rows:\n",
    "    row_data = [cell.text.strip() for cell in row.find_all(\"td\")]\n",
    "    game_rev.append(row_data)\n",
    "#creating new frame for scraped data;\n",
    "rev_tab = pandas.DataFrame(game_rev,columns=headers)\n",
    "\n",
    "\n",
    "print(rev_tab)\n"
   ]
  },
  {
   "cell_type": "code",
   "execution_count": null,
   "id": "9fbf038a",
   "metadata": {},
   "outputs": [],
   "source": [
    "#PRE DEFINED GRAPH PARAMETERS FOR TESLA\n",
    "makegraph(tesla_stock,rev_tab,'Tesla')"
   ]
  },
  {
   "cell_type": "code",
   "execution_count": null,
   "id": "6ca8da67",
   "metadata": {},
   "outputs": [],
   "source": [
    "#PRE DEFINED GRAPH PARAMETERS FOR GAMESTOP\n",
    "makegraph(game_stock,rev_tab,'GameStop')"
   ]
  }
 ],
 "metadata": {
  "kernelspec": {
   "display_name": "Python 3",
   "language": "python",
   "name": "python3"
  },
  "language_info": {
   "codemirror_mode": {
    "name": "ipython",
    "version": 3
   },
   "file_extension": ".py",
   "mimetype": "text/x-python",
   "name": "python",
   "nbconvert_exporter": "python",
   "pygments_lexer": "ipython3",
   "version": "3.11.7"
  }
 },
 "nbformat": 4,
 "nbformat_minor": 5
}
